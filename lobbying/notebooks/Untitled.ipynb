{
 "cells": [
  {
   "cell_type": "code",
   "execution_count": 1,
   "metadata": {},
   "outputs": [],
   "source": [
    "import pdf2image\n",
    "from PIL import Image\n",
    "import time"
   ]
  },
  {
   "cell_type": "code",
   "execution_count": 3,
   "metadata": {},
   "outputs": [],
   "source": [
    "def pdftopil():\n",
    "    #This method reads a pdf and converts it into a sequence of images\n",
    "    #PDF_PATH sets the path to the PDF file\n",
    "    #dpi parameter assists in adjusting the resolution of the image\n",
    "    #output_folder parameter sets the path to the folder to which the PIL images can be stored (optional)\n",
    "    #first_page parameter allows you to set a first page to be processed by pdftoppm \n",
    "    #last_page parameter allows you to set a last page to be processed by pdftoppm\n",
    "    #fmt parameter allows to set the format of pdftoppm conversion (PpmImageFile, TIFF)\n",
    "    #thread_count parameter allows you to set how many thread will be used for conversion.\n",
    "    #userpw parameter allows you to set a password to unlock the converted PDF\n",
    "    #use_cropbox parameter allows you to use the crop box instead of the media box when converting\n",
    "    #strict parameter allows you to catch pdftoppm syntax error with a custom type PDFSyntaxError\n",
    "\n",
    "    start_time = time.time()\n",
    "    pil_images = pdf2image.convert_from_path(PDF_PATH, dpi=DPI, output_folder=OUTPUT_FOLDER, first_page=FIRST_PAGE, last_page=LAST_PAGE, fmt=FORMAT, thread_count=THREAD_COUNT, userpw=USERPWD, use_cropbox=USE_CROPBOX, strict=STRICT)\n",
    "    print (\"Time taken : \" + str(time.time() - start_time))\n",
    "    return pil_images"
   ]
  },
  {
   "cell_type": "code",
   "execution_count": 4,
   "metadata": {},
   "outputs": [],
   "source": [
    "def save_images(pil_images):\n",
    "    #This method helps in converting the images in PIL Image file format to the required image format\n",
    "    index = 1\n",
    "    for image in pil_images:\n",
    "        image.save(\"page_\" + str(index) + \".jpg\")\n",
    "        index += 1"
   ]
  },
  {
   "cell_type": "code",
   "execution_count": 16,
   "metadata": {},
   "outputs": [],
   "source": [
    "#DECLARE CONSTANTS\n",
    "PDF_PATH = 'data/wvu-lobby-ADKINS-J-MARK-2019-3.pdf'\n",
    "DPI = 350\n",
    "OUTPUT_FOLDER = 'data'\n",
    "FIRST_PAGE = None\n",
    "LAST_PAGE = None\n",
    "FORMAT = 'png'\n",
    "THREAD_COUNT = 1\n",
    "USERPWD = None\n",
    "USE_CROPBOX = False\n",
    "STRICT = False"
   ]
  },
  {
   "cell_type": "code",
   "execution_count": 17,
   "metadata": {},
   "outputs": [
    {
     "name": "stdout",
     "output_type": "stream",
     "text": [
      "Time taken : 4.884591102600098\n"
     ]
    }
   ],
   "source": [
    "pil_images = pdftopil()"
   ]
  },
  {
   "cell_type": "code",
   "execution_count": 18,
   "metadata": {},
   "outputs": [],
   "source": [
    "save_images(pil_images)"
   ]
  },
  {
   "cell_type": "code",
   "execution_count": null,
   "metadata": {},
   "outputs": [],
   "source": []
  }
 ],
 "metadata": {
  "kernelspec": {
   "display_name": "Python 3",
   "language": "python",
   "name": "python3"
  },
  "language_info": {
   "codemirror_mode": {
    "name": "ipython",
    "version": 3
   },
   "file_extension": ".py",
   "mimetype": "text/x-python",
   "name": "python",
   "nbconvert_exporter": "python",
   "pygments_lexer": "ipython3",
   "version": "3.8.5"
  }
 },
 "nbformat": 4,
 "nbformat_minor": 4
}
